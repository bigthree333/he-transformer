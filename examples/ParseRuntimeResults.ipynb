{
 "cells": [
  {
   "cell_type": "code",
   "execution_count": 35,
   "metadata": {},
   "outputs": [],
   "source": [
    "import numpy as np\n",
    "import re\n",
    "import os\n"
   ]
  },
  {
   "cell_type": "code",
   "execution_count": 38,
   "metadata": {},
   "outputs": [],
   "source": [
    "def parse_results(client_file, server_file):\n",
    "\n",
    "    total_timer = r'.*Total time (.*)(ms)'\n",
    "    op_timer = r'.*\\t(.*)_(.*) took (.*)ms'\n",
    "    byte_sents = r'.*Server total bytes written (.*)'\n",
    "    \n",
    "    total_times = []\n",
    "    op_times = {}\n",
    "    server_bytes = []\n",
    "\n",
    "    batch_size_count = 0\n",
    "    with open(server_file) as f:\n",
    "        lines = [line.strip() for line in f.readlines()]\n",
    "        for line in lines:\n",
    "            if re.match(total_timer, line):\n",
    "                match = re.match(total_timer, line)\n",
    "                total_time = float(match.groups()[0].split()[0])/1000.                \n",
    "                print(\"total_time\",total_time)\n",
    "                total_times.append(total_time)\n",
    "            elif re.match(op_timer, line):\n",
    "                match = re.match(op_timer, line)\n",
    "                op = match.groups()[0]\n",
    "                time = float(match.groups()[2]) / 1000.\n",
    "                print(op, time)\n",
    "                \n",
    "                if op in op_times:\n",
    "                    op_times[op].append(time)\n",
    "                else:\n",
    "                    op_times[op] = [time]\n",
    "    return op_times "
   ]
  },
  {
   "cell_type": "code",
   "execution_count": 39,
   "metadata": {},
   "outputs": [
    {
     "name": "stdout",
     "output_type": "stream",
     "text": [
      "Constant 0.003\n",
      "Constant 0.571\n",
      "Constant 0.0\n",
      "Constant 0.052\n",
      "Reshape 0.001\n",
      "Broadcast 0.174\n",
      "Reshape 0.01\n",
      "Broadcast 0.091\n",
      "Reshape 0.0\n",
      "Convolution 19.022\n",
      "Reshape 0.025\n",
      "Add 0.724\n",
      "Relu 43.474\n",
      "Reshape 0.023\n",
      "Convolution 336.894\n",
      "Reshape 0.029\n",
      "Add 0.771\n",
      "Relu 73.312\n",
      "Reshape 0.037\n",
      "MaxPool 225.9\n",
      "Reshape 0.009\n",
      "Result 1.999\n",
      "total_time 703.121\n"
     ]
    }
   ],
   "source": [
    "op_times = parse_results('', 'CIFAR10-new/server_results.txt')"
   ]
  },
  {
   "cell_type": "code",
   "execution_count": 40,
   "metadata": {},
   "outputs": [
    {
     "data": {
      "text/plain": [
       "{'Constant': [0.003, 0.571, 0.0, 0.052],\n",
       " 'Reshape': [0.001, 0.01, 0.0, 0.025, 0.023, 0.029, 0.037, 0.009],\n",
       " 'Broadcast': [0.174, 0.091],\n",
       " 'Convolution': [19.022, 336.894],\n",
       " 'Add': [0.724, 0.771],\n",
       " 'Relu': [43.474, 73.312],\n",
       " 'MaxPool': [225.9],\n",
       " 'Result': [1.999]}"
      ]
     },
     "execution_count": 40,
     "metadata": {},
     "output_type": "execute_result"
    }
   ],
   "source": [
    "op_times"
   ]
  },
  {
   "cell_type": "code",
   "execution_count": null,
   "metadata": {},
   "outputs": [],
   "source": []
  }
 ],
 "metadata": {
  "kernelspec": {
   "display_name": "Python 3",
   "language": "python",
   "name": "python3"
  },
  "language_info": {
   "codemirror_mode": {
    "name": "ipython",
    "version": 3
   },
   "file_extension": ".py",
   "mimetype": "text/x-python",
   "name": "python",
   "nbconvert_exporter": "python",
   "pygments_lexer": "ipython3",
   "version": "3.7.2"
  }
 },
 "nbformat": 4,
 "nbformat_minor": 2
}
